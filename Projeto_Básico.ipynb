{
  "nbformat": 4,
  "nbformat_minor": 0,
  "metadata": {
    "colab": {
      "provenance": [],
      "authorship_tag": "ABX9TyOLQGf3iCSdtiQfGFNpPRl2",
      "include_colab_link": true
    },
    "kernelspec": {
      "name": "python3",
      "display_name": "Python 3"
    },
    "language_info": {
      "name": "python"
    }
  },
  "cells": [
    {
      "cell_type": "markdown",
      "metadata": {
        "id": "view-in-github",
        "colab_type": "text"
      },
      "source": [
        "<a href=\"https://colab.research.google.com/github/Diog6666/Projeto-Para-Imers-o-Alura/blob/main/Projeto_B%C3%A1sico.ipynb\" target=\"_parent\"><img src=\"https://colab.research.google.com/assets/colab-badge.svg\" alt=\"Open In Colab\"/></a>"
      ]
    },
    {
      "cell_type": "markdown",
      "source": [
        "Istalando o SDK Do Google"
      ],
      "metadata": {
        "id": "hlQmPswWHIN2"
      }
    },
    {
      "cell_type": "code",
      "execution_count": null,
      "metadata": {
        "id": "uyxMiT3B8DkC"
      },
      "outputs": [],
      "source": [
        "!pip  install -q -U google-generativeai"
      ]
    },
    {
      "cell_type": "markdown",
      "source": [
        "Criação do Acesso API KEY"
      ],
      "metadata": {
        "id": "GX3tb3FEHHPu"
      }
    },
    {
      "cell_type": "code",
      "source": [
        "import google.generativeai as genai\n",
        "\n",
        "\n",
        "GOOGLE_API_KEY = \"Cole sua API KEY\"\n",
        "genai.configure(api_key=GOOGLE_API_KEY)"
      ],
      "metadata": {
        "id": "FZ7EZLKKIVUu"
      },
      "execution_count": null,
      "outputs": []
    },
    {
      "cell_type": "markdown",
      "source": [
        "Lista de Modelos"
      ],
      "metadata": {
        "id": "HwBgjiM6JKr6"
      }
    },
    {
      "cell_type": "code",
      "source": [
        "for m in genai.list_models():\n",
        "  if 'generateContent'in m.supported_generation_methods:\n",
        "    print(m.name)"
      ],
      "metadata": {
        "colab": {
          "base_uri": "https://localhost:8080/",
          "height": 138
        },
        "id": "35jSsoEWI9_1",
        "outputId": "4002b16a-c841-4830-cff0-ee2799ee5290"
      },
      "execution_count": null,
      "outputs": [
        {
          "output_type": "stream",
          "name": "stdout",
          "text": [
            "models/gemini-1.0-pro\n",
            "models/gemini-1.0-pro-001\n",
            "models/gemini-1.0-pro-latest\n",
            "models/gemini-1.0-pro-vision-latest\n",
            "models/gemini-1.5-pro-latest\n",
            "models/gemini-pro\n",
            "models/gemini-pro-vision\n"
          ]
        }
      ]
    },
    {
      "cell_type": "markdown",
      "source": [
        "Recolarizando as Varíaveis e Propabilidade"
      ],
      "metadata": {
        "id": "Rpevt7MnJ4qq"
      }
    },
    {
      "cell_type": "code",
      "source": [
        "generation_config={\n",
        "\n",
        "    \"candidate_count\":1,\n",
        "    \"temperature\":0.5,\n",
        "    \"top_p\":1\n",
        "\n",
        "}"
      ],
      "metadata": {
        "id": "VvF5guhIKGHN"
      },
      "execution_count": null,
      "outputs": []
    },
    {
      "cell_type": "markdown",
      "source": [
        "Recolarizando os Conteúdos Sensíves e impróprios"
      ],
      "metadata": {
        "id": "_zZtgT8BLAVS"
      }
    },
    {
      "cell_type": "code",
      "source": [
        "safety_settings= {\n",
        "\n",
        "    \"HARASSMENT\": \"BLOCK_NONE\",\n",
        "    \"HATE\":\"BLOCK_NONE\" ,\n",
        "    \"SEXUAL\":\"BLOCK_NONE\" ,\n",
        "    \"DANGEROUS\":\"BLOCK_NONE\"\n",
        "\n",
        "}"
      ],
      "metadata": {
        "id": "Hdfxzo3gL0kf"
      },
      "execution_count": null,
      "outputs": []
    },
    {
      "cell_type": "markdown",
      "source": [
        "Inicializando o Modelo"
      ],
      "metadata": {
        "id": "GjfLWlDfM49X"
      }
    },
    {
      "cell_type": "code",
      "source": [
        "model =genai.GenerativeModel(model_name=\"gemini-1.0-pro\",\n",
        "\n",
        "                             generation_config=generation_config,\n",
        "                             safety_settings=safety_settings\n",
        "                             )"
      ],
      "metadata": {
        "id": "TSPEgj-MNBVn"
      },
      "execution_count": null,
      "outputs": []
    },
    {
      "cell_type": "markdown",
      "source": [
        "Texte Do Código"
      ],
      "metadata": {
        "id": "EU8d0q7rP2DG"
      }
    },
    {
      "cell_type": "code",
      "source": [
        "response = model.generate_content(\"Vamos aprender conteúdo sobre AI . Me dê sugestões envolvendo redes de computadores.\")\n",
        "print(response.text)"
      ],
      "metadata": {
        "colab": {
          "base_uri": "https://localhost:8080/",
          "height": 711
        },
        "id": "L7lG_92FP8fJ",
        "outputId": "550cf3d3-5d9b-407f-9cbe-2a1fd86b4d86"
      },
      "execution_count": null,
      "outputs": [
        {
          "output_type": "stream",
          "name": "stdout",
          "text": [
            "**Redes de Computadores e IA**\n",
            "\n",
            "**Introdução:**\n",
            "\n",
            "* Compreender o papel das redes de computadores na IA\n",
            "* Explorar os desafios e oportunidades apresentados pela integração de IA e redes\n",
            "\n",
            "**Aplicações de IA em Redes:**\n",
            "\n",
            "* **Otimização de Rede:**\n",
            "    * Uso de aprendizado de máquina (ML) para monitorar e otimizar o desempenho da rede\n",
            "    * Previsão de congestionamento e roteamento de tráfego eficiente\n",
            "* **Detecção e Resolução de Anomalias:**\n",
            "    * Emprego de algoritmos de detecção de anomalias para identificar e resolver problemas de rede\n",
            "    * Automatização de processos de resolução de problemas\n",
            "* **Segurança de Rede:**\n",
            "    * Implementação de sistemas de detecção de intrusão baseados em IA\n",
            "    * Proteção contra ataques cibernéticos e ameaças de segurança\n",
            "\n",
            "**Desafios e Oportunidades:**\n",
            "\n",
            "* **Escalabilidade:** Lidar com o volume crescente de dados e dispositivos conectados\n",
            "* **Latência:** Garantir baixa latência para aplicações de IA em tempo real\n",
            "* **Privacidade e Segurança:** Proteger a privacidade dos dados e garantir a segurança das redes\n",
            "* **Oportunidades:**\n",
            "    * Melhoria significativa no desempenho e eficiência da rede\n",
            "    * Automação de tarefas complexas de gerenciamento de rede\n",
            "    * Novos serviços e aplicações habilitados pela IA em redes\n",
            "\n",
            "**Casos de Uso:**\n",
            "\n",
            "* **Redes 5G:** Otimização de redes 5G para aplicativos de IA, como veículos autônomos e realidade virtual\n",
            "* **Redes Definidas por Software (SDN):** Uso de IA para automatizar e otimizar redes SDN\n",
            "* **Redes de Borda:** Implementação de IA em redes de borda para processamento e tomada de decisão em tempo real\n",
            "\n",
            "**Recursos Adicionais:**\n",
            "\n",
            "* [IA e Redes de Computadores](https://www.cisco.com/c/en/us/solutions/data-center-virtualization/artificial-intelligence-and-computer-networking.html)\n",
            "* [O Papel da IA nas Redes de Computadores](https://www.networkworld.com/article/3623778/the-role-of-ai-in-computer-networking.html)\n",
            "* [IA para Redes: Otimização, Segurança e Automação](https://www.huawei.com/en/solutions/industries/intelligent-connectivity/ai-for-networks)\n"
          ]
        }
      ]
    },
    {
      "cell_type": "markdown",
      "source": [
        "Iniciando ChatBot"
      ],
      "metadata": {
        "id": "1MLVzG9UQi2F"
      }
    },
    {
      "cell_type": "code",
      "source": [
        "chat = model.start_chat(history=[])"
      ],
      "metadata": {
        "id": "uTl1hqTNQiTw"
      },
      "execution_count": null,
      "outputs": []
    },
    {
      "cell_type": "code",
      "source": [
        "prompt = input(\"Esperando prompt: \")\n",
        "\n",
        "while prompt != \"fim\":\n",
        "  response = chat.send_message(prompt)\n",
        "  print(\"Resposta: \", response.text,\"\\n\")\n",
        "  prompt = input (\"Esperando prompt: \")"
      ],
      "metadata": {
        "colab": {
          "base_uri": "https://localhost:8080/",
          "height": 1000
        },
        "id": "MhcHMdDcRPJq",
        "outputId": "7e80f264-ace2-49fe-955c-2d16e7c601c4"
      },
      "execution_count": null,
      "outputs": [
        {
          "name": "stdout",
          "output_type": "stream",
          "text": [
            "Esperando prompt: importancia da IA\n",
            "Resposta:  **Importância da Inteligência Artificial (IA)**\n",
            "\n",
            "A Inteligência Artificial (IA) tem se tornado cada vez mais importante em vários aspectos da vida moderna, revolucionando indústrias, melhorando a eficiência e abrindo novas possibilidades. Aqui estão algumas das principais razões pelas quais a IA é tão importante:\n",
            "\n",
            "**1. Automação e Eficiência:**\n",
            "A IA pode automatizar tarefas repetitivas e demoradas, liberando tempo humano para se concentrar em atividades mais complexas e criativas. Isso aumenta a produtividade, reduz custos e melhora a eficiência geral.\n",
            "\n",
            "**2. Tomada de Decisão Aprimorada:**\n",
            "Os algoritmos de IA podem analisar grandes quantidades de dados e identificar padrões e insights que os humanos podem perder. Isso permite uma tomada de decisão mais informada, reduz o risco e melhora os resultados.\n",
            "\n",
            "**3. Personalização e Experiências Melhoradas:**\n",
            "A IA pode personalizar experiências para indivíduos, fornecendo recomendações personalizadas, conteúdo relevante e serviços sob medida. Isso aprimora a satisfação do cliente, aumenta o engajamento e impulsiona o crescimento dos negócios.\n",
            "\n",
            "**4. Inovação e Desenvolvimento de Novos Produtos:**\n",
            "A IA pode acelerar o desenvolvimento de novos produtos e serviços ao automatizar processos de pesquisa e desenvolvimento, testar novas ideias e identificar oportunidades de mercado.\n",
            "\n",
            "**5. Avanços Médicos:**\n",
            "A IA está transformando a área da saúde, auxiliando no diagnóstico precoce, desenvolvimento de medicamentos e personalização de tratamentos. Isso melhora os resultados dos pacientes e reduz os custos de saúde.\n",
            "\n",
            "**6. Segurança e Proteção:**\n",
            "Os sistemas de IA podem detectar e prevenir ameaças à segurança, analisar dados de vigilância e identificar atividades suspeitas. Isso ajuda a proteger indivíduos, empresas e nações.\n",
            "\n",
            "**7. Transporte e Logística:**\n",
            "A IA está otimizando o transporte e a logística, automatizando o gerenciamento de frotas, otimizando rotas e melhorando a eficiência de entrega.\n",
            "\n",
            "**8. Sustentabilidade:**\n",
            "A IA pode contribuir para a sustentabilidade, otimizando o uso de recursos, reduzindo o desperdício e identificando soluções para problemas ambientais.\n",
            "\n",
            "**9. Educação e Aprendizado:**\n",
            "A IA está transformando a educação, personalizando o aprendizado, fornecendo feedback em tempo real e aprimorando o envolvimento dos alunos.\n",
            "\n",
            "**10. Exploração Espacial e Científica:**\n",
            "A IA é essencial para a exploração espacial e a pesquisa científica, auxiliando no processamento de dados, na descoberta de novos planetas e na compreensão de fenômenos complexos.\n",
            "\n",
            "Em resumo, a IA está desempenhando um papel crucial em vários setores, impulsionando o progresso, melhorando a eficiência, aprimorando as experiências e abrindo novas possibilidades. À medida que a tecnologia continua a evoluir, podemos esperar um impacto ainda maior da IA em nossas vidas e no mundo ao nosso redor. \n",
            "\n",
            "Esperando prompt: Como fazer a fusão da ia com redes de computadores\n",
            "Resposta:  **Como Integrar IA com Redes de Computadores**\n",
            "\n",
            "A fusão da Inteligência Artificial (IA) com redes de computadores oferece vantagens significativas, incluindo maior eficiência, automação aprimorada e tomada de decisão otimizada. Aqui estão as etapas sobre como integrar IA com redes de computadores:\n",
            "\n",
            "**1. Identifique as Áreas de Integração:**\n",
            "Determine as áreas específicas da rede de computadores que se beneficiariam da integração da IA, como gerenciamento de rede, segurança, otimização de tráfego e análise de dados.\n",
            "\n",
            "**2. Escolha os Algoritmos de IA Adequados:**\n",
            "Selecione algoritmos de IA que sejam adequados para as tarefas específicas que você deseja automatizar ou aprimorar. Considere fatores como o tipo de dados, o tamanho do conjunto de dados e os requisitos de desempenho.\n",
            "\n",
            "**3. Implemente a IA na Rede:**\n",
            "Implemente os algoritmos de IA na rede de computadores usando técnicas como aprendizado de máquina, redes neurais ou processamento de linguagem natural. Isso pode envolver a criação de modelos de IA, treinamento de algoritmos e implantação de soluções de software.\n",
            "\n",
            "**4. Integre com a Infraestrutura de Rede:**\n",
            "Integre os sistemas de IA com a infraestrutura de rede existente, incluindo roteadores, switches e firewalls. Isso permitirá que a IA acesse e analise dados de rede em tempo real.\n",
            "\n",
            "**5. Monitore e Otimize:**\n",
            "Monitore o desempenho da IA e da rede integrada para identificar áreas de melhoria. Ajuste os algoritmos de IA e a configuração da rede conforme necessário para otimizar o desempenho e os resultados.\n",
            "\n",
            "**Exemplos Específicos de Integração:**\n",
            "\n",
            "* **Gerenciamento de Rede:** A IA pode automatizar tarefas de gerenciamento de rede, como provisionamento de recursos, detecção de falhas e otimização de desempenho.\n",
            "* **Segurança de Rede:** A IA pode analisar dados de rede para detectar e prevenir ameaças à segurança, identificar atividades suspeitas e fortalecer as medidas de segurança.\n",
            "* **Otimização de Tráfego:** A IA pode analisar padrões de tráfego de rede e otimizar o roteamento e o balanceamento de carga para melhorar a largura de banda e reduzir a latência.\n",
            "* **Análise de Dados:** A IA pode analisar grandes volumes de dados de rede para identificar tendências, prever problemas e fornecer insights para melhorar a tomada de decisão.\n",
            "\n",
            "Integrando a IA com redes de computadores, as organizações podem aproveitar os benefícios da automação, eficiência aprimorada e tomada de decisão otimizada. Isso pode levar a redes mais seguras, eficientes e responsivas que atendem às demandas crescentes do mundo digital. \n",
            "\n",
            "Esperando prompt: fim\n"
          ]
        }
      ]
    }
  ]
}